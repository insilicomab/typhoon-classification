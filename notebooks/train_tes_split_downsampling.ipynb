{
 "cells": [
  {
   "cell_type": "code",
   "execution_count": 1,
   "metadata": {},
   "outputs": [],
   "source": [
    "from pathlib import Path\n",
    "import pandas as pd\n",
    "from sklearn.model_selection import StratifiedKFold"
   ]
  },
  {
   "cell_type": "code",
   "execution_count": 2,
   "metadata": {},
   "outputs": [],
   "source": [
    "ROOT = \"/workspace/data/typhoon/train\"\n",
    "N_SPLITS = 5\n",
    "DOWN_SAMPLING_N = 57423"
   ]
  },
  {
   "cell_type": "code",
   "execution_count": 3,
   "metadata": {},
   "outputs": [],
   "source": [
    "def create_kfold_dataframe(df: pd.DataFrame, n_splits=5, random_state=0):\n",
    "    # KFoldを設定\n",
    "    skf = StratifiedKFold(n_splits=n_splits, shuffle=True, random_state=random_state)\n",
    "\n",
    "    # fold列を初期化\n",
    "    df['fold'] = -1\n",
    "\n",
    "    X, y = df[\"image_path\"], df[\"label\"]\n",
    "\n",
    "    for fold_number, (train_index, valid_index) in enumerate(skf.split(X, y)):\n",
    "        df.loc[valid_index, 'fold'] = fold_number\n",
    "    \n",
    "    return df"
   ]
  },
  {
   "cell_type": "code",
   "execution_count": 4,
   "metadata": {},
   "outputs": [],
   "source": [
    "def downsample_nonTC(df: pd.DataFrame, N: int, random_state: int = 42) -> pd.DataFrame:\n",
    "    \"\"\"\n",
    "    データフレームを処理し、nonTCデータをダウンサンプリングする関数\n",
    "\n",
    "    Parameters:\n",
    "    df (pandas.DataFrame): 処理するデータフレーム\n",
    "    N (int): 各foldでnonTCをダウンサンプリングする数\n",
    "\n",
    "    Returns:\n",
    "    pandas.DataFrame: 処理後のデータフレーム\n",
    "    \"\"\"\n",
    "    # TCデータを抽出\n",
    "    df_TC = df[df['label'] == 'TC']\n",
    "\n",
    "    # nonTCデータを抽出\n",
    "    df_nonTC = df[df['label'] == 'nonTC']\n",
    "\n",
    "    # foldごとにnonTCデータをダウンサンプリング\n",
    "    downsampled_nonTC_dfs = []\n",
    "    for fold in range(5):  # 0から4までのfold\n",
    "        fold_df = df_nonTC[df_nonTC['fold'] == fold]\n",
    "        if len(fold_df) > N:\n",
    "            downsampled_fold_df = fold_df.sample(n=N, random_state=42)\n",
    "        else:\n",
    "            downsampled_fold_df = fold_df\n",
    "        downsampled_nonTC_dfs.append(downsampled_fold_df)\n",
    "\n",
    "    # ダウンサンプリングしたnonTCデータを結合\n",
    "    df_nonTC_downsampled = pd.concat(downsampled_nonTC_dfs, ignore_index=True)\n",
    "\n",
    "    # TCデータとダウンサンプリングしたnonTCデータを結合\n",
    "    downsampled_df = pd.concat([df_TC, df_nonTC_downsampled], ignore_index=True)\n",
    "\n",
    "    return downsampled_df"
   ]
  },
  {
   "cell_type": "code",
   "execution_count": 5,
   "metadata": {},
   "outputs": [],
   "source": [
    "# ルートディレクトリを指定\n",
    "root_directory = Path(ROOT)"
   ]
  },
  {
   "cell_type": "code",
   "execution_count": 6,
   "metadata": {},
   "outputs": [],
   "source": [
    "# tifファイルのパスを再帰的に取得\n",
    "tif_files = list(root_directory.rglob(\"*.tif\"))"
   ]
  },
  {
   "cell_type": "code",
   "execution_count": 7,
   "metadata": {},
   "outputs": [],
   "source": [
    "paths, labels, dirs, filenames = [], [], [], []\n",
    "for file_path in tif_files:\n",
    "    paths.append(str(file_path))\n",
    "    labels.append(str(file_path.parent.name))\n",
    "    dirs.append(str(file_path.parent.parent.name))\n",
    "    filenames.append(str(file_path.name))"
   ]
  },
  {
   "cell_type": "code",
   "execution_count": 8,
   "metadata": {},
   "outputs": [],
   "source": [
    "df = pd.DataFrame({\n",
    "    \"image_path\": paths,\n",
    "    \"subdir\": dirs,\n",
    "    \"file_name\": filenames,\n",
    "    \"label\": labels,\n",
    "})"
   ]
  },
  {
   "cell_type": "code",
   "execution_count": 9,
   "metadata": {},
   "outputs": [],
   "source": [
    "# K分割データフレームを作成\n",
    "df = create_kfold_dataframe(df, N_SPLITS)"
   ]
  },
  {
   "cell_type": "code",
   "execution_count": 10,
   "metadata": {},
   "outputs": [],
   "source": [
    "downsampled_df = downsample_nonTC(df, N=DOWN_SAMPLING_N)"
   ]
  },
  {
   "cell_type": "code",
   "execution_count": 11,
   "metadata": {},
   "outputs": [],
   "source": [
    "downsampled_df.to_csv('../inputs/train_val_kfold_split_downsampling.csv', index = False)"
   ]
  },
  {
   "cell_type": "code",
   "execution_count": 12,
   "metadata": {},
   "outputs": [
    {
     "name": "stdout",
     "output_type": "stream",
     "text": [
      "処理後のデータフレームの形状: (358894, 5)\n",
      "TCデータの数: 71779\n",
      "nonTCデータの数: 287115\n",
      "foldごとのnonTCデータの数:\n",
      "fold\n",
      "0    57423\n",
      "1    57423\n",
      "2    57423\n",
      "3    57423\n",
      "4    57423\n",
      "Name: count, dtype: int64\n"
     ]
    }
   ],
   "source": [
    "# 結果の確認\n",
    "print(\"処理後のデータフレームの形状:\", downsampled_df.shape)\n",
    "print(\"TCデータの数:\", len(downsampled_df[downsampled_df['label'] == 'TC']))\n",
    "print(\"nonTCデータの数:\", len(downsampled_df[downsampled_df['label'] == 'nonTC']))\n",
    "print(\"foldごとのnonTCデータの数:\")\n",
    "print(downsampled_df[downsampled_df['label'] == 'nonTC']['fold'].value_counts().sort_index())"
   ]
  }
 ],
 "metadata": {
  "kernelspec": {
   "display_name": "Python 3",
   "language": "python",
   "name": "python3"
  },
  "language_info": {
   "codemirror_mode": {
    "name": "ipython",
    "version": 3
   },
   "file_extension": ".py",
   "mimetype": "text/x-python",
   "name": "python",
   "nbconvert_exporter": "python",
   "pygments_lexer": "ipython3",
   "version": "3.11.9"
  }
 },
 "nbformat": 4,
 "nbformat_minor": 2
}
