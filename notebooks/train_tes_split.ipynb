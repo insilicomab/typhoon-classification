{
 "cells": [
  {
   "cell_type": "code",
   "execution_count": 1,
   "metadata": {},
   "outputs": [],
   "source": [
    "from pathlib import Path\n",
    "import pandas as pd\n",
    "from sklearn.model_selection import StratifiedKFold"
   ]
  },
  {
   "cell_type": "code",
   "execution_count": 2,
   "metadata": {},
   "outputs": [],
   "source": [
    "def create_kfold_dataframe(df: pd.DataFrame, n_splits=5, random_state=0):\n",
    "    # KFoldを設定\n",
    "    skf = StratifiedKFold(n_splits=n_splits, shuffle=True, random_state=random_state)\n",
    "\n",
    "    # fold列を初期化\n",
    "    df['fold'] = -1\n",
    "\n",
    "    X, y = df[\"image_path\"], df[\"label\"]\n",
    "\n",
    "    for fold_number, (train_index, valid_index) in enumerate(skf.split(X, y)):\n",
    "        df.loc[valid_index, 'fold'] = fold_number\n",
    "    \n",
    "    return df"
   ]
  },
  {
   "cell_type": "code",
   "execution_count": 3,
   "metadata": {},
   "outputs": [],
   "source": [
    "ROOT = \"/workspace/data/typhoon/train\"\n",
    "N_SPLITS = 5"
   ]
  },
  {
   "cell_type": "code",
   "execution_count": 4,
   "metadata": {},
   "outputs": [],
   "source": [
    "# ルートディレクトリを指定\n",
    "root_directory = Path(ROOT)"
   ]
  },
  {
   "cell_type": "code",
   "execution_count": 5,
   "metadata": {},
   "outputs": [],
   "source": [
    "# tifファイルのパスを再帰的に取得\n",
    "tif_files = list(root_directory.rglob(\"*.tif\"))"
   ]
  },
  {
   "cell_type": "code",
   "execution_count": 6,
   "metadata": {},
   "outputs": [],
   "source": [
    "paths, labels, dirs, filenames = [], [], [], []\n",
    "for file_path in tif_files:\n",
    "    paths.append(str(file_path))\n",
    "    labels.append(str(file_path.parent.name))\n",
    "    dirs.append(str(file_path.parent.parent.name))\n",
    "    filenames.append(str(file_path.name))"
   ]
  },
  {
   "cell_type": "code",
   "execution_count": 7,
   "metadata": {},
   "outputs": [],
   "source": [
    "df = pd.DataFrame({\n",
    "    \"image_path\": paths,\n",
    "    \"subdir\": dirs,\n",
    "    \"file_name\": filenames,\n",
    "    \"label\": labels,\n",
    "})"
   ]
  },
  {
   "cell_type": "code",
   "execution_count": 8,
   "metadata": {},
   "outputs": [],
   "source": [
    "# K分割データフレームを作成\n",
    "df = create_kfold_dataframe(df, N_SPLITS)"
   ]
  },
  {
   "cell_type": "code",
   "execution_count": 9,
   "metadata": {},
   "outputs": [],
   "source": [
    "df.to_csv('../inputs/train_val_kfold_split.csv', index = False)"
   ]
  }
 ],
 "metadata": {
  "kernelspec": {
   "display_name": "Python 3",
   "language": "python",
   "name": "python3"
  },
  "language_info": {
   "codemirror_mode": {
    "name": "ipython",
    "version": 3
   },
   "file_extension": ".py",
   "mimetype": "text/x-python",
   "name": "python",
   "nbconvert_exporter": "python",
   "pygments_lexer": "ipython3",
   "version": "3.11.9"
  }
 },
 "nbformat": 4,
 "nbformat_minor": 2
}
